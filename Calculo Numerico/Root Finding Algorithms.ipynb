{
  "nbformat": 4,
  "nbformat_minor": 0,
  "metadata": {
    "colab": {
      "name": "ADO 02 - Calculo Numerico.ipynb",
      "provenance": [],
      "collapsed_sections": []
    },
    "kernelspec": {
      "name": "python3",
      "display_name": "Python 3"
    },
    "language_info": {
      "name": "python"
    }
  },
  "cells": [
    {
      "cell_type": "markdown",
      "source": [
        "# **ADO 02 - Cálculo Numérico**\n",
        "\n",
        "**Aluno:** Igor Giuliano Augusto de Andrade Justino\n"
      ],
      "metadata": {
        "id": "YXISIZ3LYGvb"
      }
    },
    {
      "cell_type": "markdown",
      "source": [
        "#### 1. (Método de Newton-Raphson) A velocidade v do para-quedista em queda livre é dada por $v=\\frac{gm}{c}(1-\\mathrm{e}^{-\\frac{c}{mt}})$, onde $g = 9.8m/s^2$. Para um paraquedista com um coeficiente de arrasto $c = 15kg/s$, calcule a massa para que a velocidade seja $v = 35m/s$ em $t = 9s$. Considere o erro de $ε = 0.1\\% $."
      ],
      "metadata": {
        "id": "JbCAN-4nYmc8"
      }
    },
    {
      "cell_type": "code",
      "execution_count": 24,
      "metadata": {
        "colab": {
          "base_uri": "https://localhost:8080/"
        },
        "id": "_KAZ-0jvYByr",
        "outputId": "0b8f7054-9721-4ece-8bda-d9262c395605"
      },
      "outputs": [
        {
          "output_type": "stream",
          "name": "stdout",
          "text": [
            "\n",
            "O valor da massa do paraquedista é : 59.841305\n",
            "A massa foi achada em 8 iterações\n",
            "\n",
            "Com a massa 59.841305 é possível achar a velocidade 35.000112\n"
          ]
        }
      ],
      "source": [
        "import numpy as np\n",
        "\n",
        "g = 9.8\n",
        "t = 9\n",
        "c = 15\n",
        "\n",
        "def funcao(m):\n",
        "  return ((g * m) / c) * (1 - np.exp( -(c / m) * t ))\n",
        "\n",
        "def funcaoAdaptada(m):\n",
        "  return 35 - (((g * m) / c) * (1 - np.exp( -(c / m) * t )) )\n",
        "\n",
        "def derivadaDaFuncao(m):\n",
        "  return -((g * (1 - np.exp(-((t*c)/m)) - ((np.exp(-((t*c)/m)*t*c)/m)) ) ) / c)\n",
        "\n",
        "def newtonRaphson(x):\n",
        "  contador = 0\n",
        "  h = funcaoAdaptada(x) / derivadaDaFuncao(x)\n",
        "  \n",
        "  while abs(h) > 0.001: # 0.1% => 0.1/100 = 0.001\n",
        "    h = funcaoAdaptada(x) / derivadaDaFuncao(x)\n",
        "    x = x-h\n",
        "    contador += 1\n",
        "\n",
        "  print(\"\")\n",
        "  print(f\"O valor da massa do paraquedista é : {round(x, 6)}\")\n",
        "  print(f\"A massa foi achada em {round(contador, 6)} iterações\")\n",
        "  print(\"\")\n",
        "\n",
        "  return x\n",
        "\n",
        "\n",
        "x0 = 70\n",
        "massa = newtonRaphson(x0)\n",
        "print(f\"Com a massa {round(massa, 6)} é possível achar a velocidade {round(funcao(massa),6)}\")"
      ]
    },
    {
      "cell_type": "markdown",
      "source": [
        "#### 2. (Método das Secantes) Um tanque esférico foi projetado para armazenar água para um vilarejo. O volume de líquido que ele armazena pode ser calculado por $V = 2πh^2(3R − h)^3$, onde V é o volume, em $m^3$, h é a profundidade da água no tanque, em m, R é o raio do tanque, em m. Se R = 3m, até que profundidade o tanque deve estar cheio para que ele armazene 30 m3.\n",
        "\n",
        "\n"
      ],
      "metadata": {
        "id": "rTJBP5jkx3Yx"
      }
    },
    {
      "cell_type": "code",
      "source": [
        "import numpy as np\n",
        "\n",
        "def funcao(h):\n",
        "  f = (6 * np.pi * (h**2)) - ((-2*np.pi*(h**3))/3) - 30\n",
        "  return f\n",
        "\n",
        "def metodoSecante(xa, xb, e):\n",
        "  print(f\"Xa: {xa}; Xb: {xb}; E: {e};\")\n",
        "  while abs((xb-xa)/xa) > e:\n",
        "    xk = (xb * funcao(xa) - xa * funcao(xb)) / (funcao(xa) - funcao(xb))\n",
        "    xa = xb\n",
        "    xb = xk\n",
        "  return xb\n",
        "\n",
        "\n",
        "e = float(input(\"Digite a tolerância (erro), na forma decimal utilizando ponto ao invés de vírgula :\"))\n",
        "print()\n",
        "\n",
        "h = metodoSecante(1, 1.4, e)\n",
        "print(f\"A raiz achada pelo método da secante foi: {round(h,6)}\")\n",
        "print(f\"Aplicando na função: {round((6 * np.pi * (h**2)) - ((-2*np.pi*(h**3))/3), 6)}\")"
      ],
      "metadata": {
        "id": "w-oNrmCmyG8Q",
        "colab": {
          "base_uri": "https://localhost:8080/"
        },
        "outputId": "0165ed2e-b6e4-412e-8b41-a4ab1a424cb3"
      },
      "execution_count": 14,
      "outputs": [
        {
          "output_type": "stream",
          "name": "stdout",
          "text": [
            "Digite a tolerância (erro), na forma decimal utilizando ponto ao invés de vírgula :0.0001\n",
            "\n",
            "Xa: 1; Xb: 1.4; E: 0.0001;\n",
            "A raiz achada pelo método da secante foi: 1.185858\n",
            "Aplicando na função: 29.999999\n"
          ]
        }
      ]
    },
    {
      "cell_type": "markdown",
      "source": [
        "#### 3. (Método da Bissecção) Determine todas as raízes da equação $x^3 + 12x^2 − 100x − 6 = 0$. Considerar o erro $ε = 0.1%$. Usar os intervalos [−10, 8], [−2, 0] e [8, 10] para determinar cada raiz"
      ],
      "metadata": {
        "id": "TCzgUgiRyHNy"
      }
    },
    {
      "cell_type": "code",
      "source": [
        "import numpy as np\n",
        "\n",
        "f = lambda x: x**3 + 12*x**2 - 100 * x - 6\n",
        "\n",
        "def bisseccao(f, a, b, e, xn):\n",
        "  if f(a) * f(b) > 0:\n",
        "    print(f\"Iteração nº {xn}: Não pode-se afirmar se existe raiz ou não neste intervalo\")\n",
        "    return\n",
        "\n",
        "  xn += 1\n",
        "  \n",
        "  m = (a+b)/2\n",
        "  m = round(m, 6)\n",
        "\n",
        "  if np.abs(f(m)) < e:\n",
        "    print(f\"Iteração nº {xn}: Existe raiz no intervalo entre {round(a, 6)} e {round(b, 6)}, e ela é {round(m, 6)}\")\n",
        "    return m\n",
        "\n",
        "  elif np.sign(f(a)) == np.sign(f(m)):\n",
        "    return bisseccao(f, m, b, e, xn)\n",
        "\n",
        "  elif np.sign(f(b)) == np.sign(f(m)):\n",
        "    return bisseccao(f, a, m, e, xn)\n",
        "\n",
        "\n",
        "def numero_de_iteracoes(a, b, e):\n",
        "  return np.ceil( (np.log(b-a) - np.log(e)) / np.log(2) )\n",
        "\n",
        "\n",
        "print(\"Intervalo de -10 a 8\")\n",
        "bisseccao(f, -10, 8, 0.001, 0)\n",
        "print(\"\")\n",
        "\n",
        "print(\"Intervalo de -2 a 0\")\n",
        "bisseccao(f, -2, 0, 0.001, 0)\n",
        "print(\"\")\n",
        "\n",
        "print(\"Intervalo de 8 a 10\")\n",
        "bisseccao(f, 8, 10, 0.001, 0)"
      ],
      "metadata": {
        "colab": {
          "base_uri": "https://localhost:8080/"
        },
        "id": "Mwek2-ZFyb3J",
        "outputId": "0ddb06ba-eb98-49d7-e0d8-6f280df193f3"
      },
      "execution_count": 18,
      "outputs": [
        {
          "output_type": "stream",
          "name": "stdout",
          "text": [
            "Intervalo de -10 a 8\n",
            "Iteração nº 0: Não pode-se afirmar se existe raiz ou não neste intervalo\n",
            "\n",
            "Intervalo de -2 a 0\n",
            "Iteração nº 11: Existe raiz no intervalo entre -0.060547 e -0.058594, e ela é -0.05957\n",
            "\n",
            "Intervalo de 8 a 10\n",
            "Iteração nº 0: Não pode-se afirmar se existe raiz ou não neste intervalo\n"
          ]
        }
      ]
    }
  ]
}